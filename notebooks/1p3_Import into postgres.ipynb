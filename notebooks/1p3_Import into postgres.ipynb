{
 "cells": [
  {
   "cell_type": "markdown",
   "id": "c9579231-f558-467c-8313-afeff1b19be6",
   "metadata": {},
   "source": [
    "# Importing Processed Data into PostgreSQL\n",
    "\n",
    "## 📌 Overview\n",
    "This notebook connects to a **PostgreSQL database** and imports:\n",
    "- **Word frequency statistics** (term occurrences in documents).\n",
    "- **Word co-occurrence statistics** (relationships between terms).\n",
    "- **Updates** calculations within **PostgreSQL**."
   ]
  },
  {
   "cell_type": "code",
   "execution_count": 1,
   "id": "7142cd75-9619-4c92-a0b1-1a4bef7804f1",
   "metadata": {},
   "outputs": [],
   "source": [
    "# Import core libraries\n",
    "import os\n",
    "import sys\n",
    "import pandas as pd\n",
    "\n",
    "# Import custom functions\n",
    "sys.path.append(os.path.abspath(os.path.join(os.getcwd(), \"..\", \"src\")))\n",
    "\n",
    "# Import database handling functions and visualization functions\n",
    "from database import get_database_engine, process_and_import_data\n",
    "\n",
    "# Move the working directory one level up \n",
    "os.chdir(os.path.abspath(os.path.join(os.getcwd(), \"..\")))"
   ]
  },
  {
   "cell_type": "markdown",
   "id": "511394e5-54ae-480d-86d1-16753dd63f70",
   "metadata": {},
   "source": [
    "## 1. Connect to the PostgreSQL Database\n",
    "\n",
    "We retrieve database credentials from the `.env` file and establish a **secure connection**.  You will need to provide your own credentials for your own database."
   ]
  },
  {
   "cell_type": "code",
   "execution_count": 2,
   "id": "a200fb92-857b-4f0d-ae44-115c02b12efe",
   "metadata": {},
   "outputs": [
    {
     "name": "stdout",
     "output_type": "stream",
     "text": [
      "✅ Successfully connected to the database!\n"
     ]
    }
   ],
   "source": [
    "# Establish Database Connection\n",
    "engine = get_database_engine()\n",
    "\n",
    "# Test connection\n",
    "try:\n",
    "    with engine.connect() as connection:\n",
    "        print(\"✅ Successfully connected to the database!\")\n",
    "except Exception as e:\n",
    "    print(f\"❌ Connection failed: {e}\")\n"
   ]
  },
  {
   "cell_type": "markdown",
   "id": "637a699d-4832-4fcd-9500-6653ea97827e",
   "metadata": {},
   "source": [
    "## 2. Define Data Import Parameters\n",
    "\n",
    "We will:\n",
    "- Scan **each term folder** in `data`\n",
    "- **Skip already processed terms** (unless `skip_processed=False`).\n"
   ]
  },
  {
   "cell_type": "code",
   "execution_count": 4,
   "id": "e95ebe6e-6a1f-43b5-801c-85326d189012",
   "metadata": {},
   "outputs": [],
   "source": [
    "# Define Root Folder and Import Parameters\n",
    "\n",
    "root_folder = r\"D:\\Msc\\data\"\n",
    "total_docs = 16023367  # This number is the total number of documents in xDD at the time of the search.\n",
    "skip_processed = True  # Set to False to reprocess all terms"
   ]
  },
  {
   "cell_type": "markdown",
   "id": "cefcd868-099b-487f-97e1-17605a678b18",
   "metadata": {},
   "source": [
    "## 3. Execute Data Import\n",
    "\n",
    "This step will:\n",
    "- **Check for existing processed terms** to avoid duplication.\n",
    "- **Insert term counts** into `term_counts` table.\n",
    "- **Insert co-occurrence statistics** into `term_cooccurrence` table.\n",
    "- **Run a stored procedure** to update statistics.\n"
   ]
  },
  {
   "cell_type": "code",
   "execution_count": 5,
   "id": "a3f6a4d3-dfbf-498a-bf58-88237e1ec965",
   "metadata": {},
   "outputs": [
    {
     "name": "stderr",
     "output_type": "stream",
     "text": [
      "Importing terms:  77%|███████████████████████████████████████████████▌              | 841/1095 [07:11<02:05,  2.02it/s]"
     ]
    },
    {
     "name": "stdout",
     "output_type": "stream",
     "text": [
      "Inserted or updated word_counts data for term: sask craton\n",
      "\n",
      "🌀 COPY attempt 1 — 1027 rows\n",
      "📤 Trying COPY insert (attempt 1)...\n",
      "✅ COPY insert completed successfully.\n"
     ]
    },
    {
     "name": "stderr",
     "output_type": "stream",
     "text": [
      "Importing terms: 100%|█████████████████████████████████████████████████████████████| 1095/1095 [09:25<00:00,  1.94it/s]\n"
     ]
    }
   ],
   "source": [
    "# Run the Data Import Function\n",
    "\n",
    "process_and_import_data(root_folder, total_docs, engine, skip_processed)\n"
   ]
  },
  {
   "cell_type": "markdown",
   "id": "57210445-c8ff-442a-b82f-f694f835f197",
   "metadata": {},
   "source": [
    "## 4. Verify Data in PostgreSQL\n",
    "\n",
    "Once the import is complete, we verify the data by querying the database.\n"
   ]
  },
  {
   "cell_type": "code",
   "execution_count": 7,
   "id": "474d242c-bac1-4821-917c-95ac18888a63",
   "metadata": {},
   "outputs": [
    {
     "name": "stdout",
     "output_type": "stream",
     "text": [
      "📊 Top 10 Co-Occurring Word Pairs:\n"
     ]
    },
    {
     "data": {
      "text/html": [
       "<div>\n",
       "<style scoped>\n",
       "    .dataframe tbody tr th:only-of-type {\n",
       "        vertical-align: middle;\n",
       "    }\n",
       "\n",
       "    .dataframe tbody tr th {\n",
       "        vertical-align: top;\n",
       "    }\n",
       "\n",
       "    .dataframe thead th {\n",
       "        text-align: right;\n",
       "    }\n",
       "</style>\n",
       "<table border=\"1\" class=\"dataframe\">\n",
       "  <thead>\n",
       "    <tr style=\"text-align: right;\">\n",
       "      <th></th>\n",
       "      <th>word_1</th>\n",
       "      <th>word_2</th>\n",
       "      <th>count</th>\n",
       "      <th>prob_w1w2</th>\n",
       "      <th>mutual_information</th>\n",
       "      <th>entropy_w1w2</th>\n",
       "      <th>prob_notw1w2</th>\n",
       "      <th>entropy_notw1w2</th>\n",
       "    </tr>\n",
       "  </thead>\n",
       "  <tbody>\n",
       "    <tr>\n",
       "      <th>0</th>\n",
       "      <td>new</td>\n",
       "      <td>york</td>\n",
       "      <td>12459156</td>\n",
       "      <td>0.000180</td>\n",
       "      <td>None</td>\n",
       "      <td>None</td>\n",
       "      <td>None</td>\n",
       "      <td>None</td>\n",
       "    </tr>\n",
       "    <tr>\n",
       "      <th>1</th>\n",
       "      <td>high</td>\n",
       "      <td>middle</td>\n",
       "      <td>6684146</td>\n",
       "      <td>0.000096</td>\n",
       "      <td>None</td>\n",
       "      <td>None</td>\n",
       "      <td>None</td>\n",
       "      <td>None</td>\n",
       "    </tr>\n",
       "    <tr>\n",
       "      <th>2</th>\n",
       "      <td>present</td>\n",
       "      <td>study</td>\n",
       "      <td>5894209</td>\n",
       "      <td>0.000085</td>\n",
       "      <td>None</td>\n",
       "      <td>None</td>\n",
       "      <td>None</td>\n",
       "      <td>None</td>\n",
       "    </tr>\n",
       "    <tr>\n",
       "      <th>3</th>\n",
       "      <td>age</td>\n",
       "      <td>year</td>\n",
       "      <td>5615331</td>\n",
       "      <td>0.000081</td>\n",
       "      <td>None</td>\n",
       "      <td>None</td>\n",
       "      <td>None</td>\n",
       "      <td>None</td>\n",
       "    </tr>\n",
       "    <tr>\n",
       "      <th>4</th>\n",
       "      <td>related</td>\n",
       "      <td>article</td>\n",
       "      <td>5429790</td>\n",
       "      <td>0.000078</td>\n",
       "      <td>None</td>\n",
       "      <td>None</td>\n",
       "      <td>None</td>\n",
       "      <td>None</td>\n",
       "    </tr>\n",
       "    <tr>\n",
       "      <th>5</th>\n",
       "      <td>one</td>\n",
       "      <td>two</td>\n",
       "      <td>4990364</td>\n",
       "      <td>0.000072</td>\n",
       "      <td>None</td>\n",
       "      <td>None</td>\n",
       "      <td>None</td>\n",
       "      <td>None</td>\n",
       "    </tr>\n",
       "    <tr>\n",
       "      <th>6</th>\n",
       "      <td>data</td>\n",
       "      <td>analysis</td>\n",
       "      <td>4711650</td>\n",
       "      <td>0.000068</td>\n",
       "      <td>None</td>\n",
       "      <td>None</td>\n",
       "      <td>None</td>\n",
       "      <td>None</td>\n",
       "    </tr>\n",
       "    <tr>\n",
       "      <th>7</th>\n",
       "      <td>related</td>\n",
       "      <td>view</td>\n",
       "      <td>4395150</td>\n",
       "      <td>0.000063</td>\n",
       "      <td>None</td>\n",
       "      <td>None</td>\n",
       "      <td>None</td>\n",
       "      <td>None</td>\n",
       "    </tr>\n",
       "    <tr>\n",
       "      <th>8</th>\n",
       "      <td>figure</td>\n",
       "      <td>shown</td>\n",
       "      <td>4340280</td>\n",
       "      <td>0.000063</td>\n",
       "      <td>None</td>\n",
       "      <td>None</td>\n",
       "      <td>None</td>\n",
       "      <td>None</td>\n",
       "    </tr>\n",
       "    <tr>\n",
       "      <th>9</th>\n",
       "      <td>active</td>\n",
       "      <td>cell</td>\n",
       "      <td>4318821</td>\n",
       "      <td>0.000062</td>\n",
       "      <td>None</td>\n",
       "      <td>None</td>\n",
       "      <td>None</td>\n",
       "      <td>None</td>\n",
       "    </tr>\n",
       "  </tbody>\n",
       "</table>\n",
       "</div>"
      ],
      "text/plain": [
       "    word_1    word_2     count  prob_w1w2 mutual_information entropy_w1w2  \\\n",
       "0      new      york  12459156   0.000180               None         None   \n",
       "1     high    middle   6684146   0.000096               None         None   \n",
       "2  present     study   5894209   0.000085               None         None   \n",
       "3      age      year   5615331   0.000081               None         None   \n",
       "4  related   article   5429790   0.000078               None         None   \n",
       "5      one       two   4990364   0.000072               None         None   \n",
       "6     data  analysis   4711650   0.000068               None         None   \n",
       "7  related      view   4395150   0.000063               None         None   \n",
       "8   figure     shown   4340280   0.000063               None         None   \n",
       "9   active      cell   4318821   0.000062               None         None   \n",
       "\n",
       "  prob_notw1w2 entropy_notw1w2  \n",
       "0         None            None  \n",
       "1         None            None  \n",
       "2         None            None  \n",
       "3         None            None  \n",
       "4         None            None  \n",
       "5         None            None  \n",
       "6         None            None  \n",
       "7         None            None  \n",
       "8         None            None  \n",
       "9         None            None  "
      ]
     },
     "metadata": {},
     "output_type": "display_data"
    }
   ],
   "source": [
    "# 10. Query Co-Occurrence Table\n",
    "\n",
    "query = \"SELECT * FROM term_cooccurrence ORDER BY count DESC LIMIT 10\"\n",
    "\n",
    "with engine.connect() as connection:\n",
    "    df_cooc = pd.read_sql(query, connection)\n",
    "\n",
    "print(\"📊 Top 10 Co-Occurring Word Pairs:\")\n",
    "display(df_cooc)\n"
   ]
  },
  {
   "cell_type": "markdown",
   "id": "7b51f82a-3bdb-429e-a3ae-24a3c85a3926",
   "metadata": {},
   "source": [
    "## 5. Next Steps\n",
    "\n",
    "Now that we have:  \n",
    "✔ Extracted data (`1_xdd_data_extraction.ipynb`)  \n",
    "✔ Processed text statistics (`2_calculate_statistics.ipynb`)  \n",
    "✔ Imported data into PostgreSQL (`3_import_to_postgres.ipynb`)  \n",
    "\n",
    "📌 **Visualize in the Web App**\n",
    "\n",
    "To explore semantic relationships and co-occurrence networks interactively, visit the GeoNLP web app.\n",
    "\n",
    "➡️ Open the app in your browser: https://www.terra-datasystems.com  \n",
    "➡️ Use the search box to enter geological terms (e.g., `\"volcanic arc\"`)  \n",
    "➡️ Adjust filters, explore connections, and download CSVs for further analysis.\n",
    "\n",
    "---\n",
    "\n",
    "**Coming Up:**  \n",
    "- Add machine learning workflows for classification and clustering.  \n",
    "- Geo-tagging and spatial relationships\n",
    "- Named Entity Recognition\n",
    "- Relation Extraction\n",
    "- Question and Answering\n",
    "- Custom LLMs\n",
    "- Cosine Similarity and TF-IDF\n",
    "- Topic Modeling\n",
    "- Text Classification\n"
   ]
  },
  {
   "cell_type": "code",
   "execution_count": null,
   "id": "d719d652-ea44-4e55-8732-162610f037fa",
   "metadata": {},
   "outputs": [],
   "source": []
  }
 ],
 "metadata": {
  "kernelspec": {
   "display_name": "Python 3 (ipykernel)",
   "language": "python",
   "name": "python3"
  },
  "language_info": {
   "codemirror_mode": {
    "name": "ipython",
    "version": 3
   },
   "file_extension": ".py",
   "mimetype": "text/x-python",
   "name": "python",
   "nbconvert_exporter": "python",
   "pygments_lexer": "ipython3",
   "version": "3.10.18"
  }
 },
 "nbformat": 4,
 "nbformat_minor": 5
}
